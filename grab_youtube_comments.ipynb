{
  "nbformat": 4,
  "nbformat_minor": 0,
  "metadata": {
    "kernelspec": {
      "language": "python",
      "display_name": "Python 3",
      "name": "python3"
    },
    "language_info": {
      "name": "python",
      "version": "3.7.10",
      "mimetype": "text/x-python",
      "codemirror_mode": {
        "name": "ipython",
        "version": 3
      },
      "pygments_lexer": "ipython3",
      "nbconvert_exporter": "python",
      "file_extension": ".py"
    },
    "colab": {
      "name": "grab-youtube-comments.ipynb",
      "provenance": [],
      "collapsed_sections": [],
      "include_colab_link": true
    },
    "accelerator": "GPU"
  },
  "cells": [
    {
      "cell_type": "markdown",
      "metadata": {
        "id": "view-in-github",
        "colab_type": "text"
      },
      "source": [
        "<a href=\"https://colab.research.google.com/github/weibb123/Unsupervised_sentiment_analysis_on_Youtube/blob/main/grab_youtube_comments.ipynb\" target=\"_parent\"><img src=\"https://colab.research.google.com/assets/colab-badge.svg\" alt=\"Open In Colab\"/></a>"
      ]
    },
    {
      "cell_type": "code",
      "metadata": {
        "execution": {
          "iopub.status.busy": "2021-10-21T21:46:58.815008Z",
          "iopub.execute_input": "2021-10-21T21:46:58.815277Z",
          "iopub.status.idle": "2021-10-21T21:47:10.627161Z",
          "shell.execute_reply.started": "2021-10-21T21:46:58.815249Z",
          "shell.execute_reply": "2021-10-21T21:47:10.626184Z"
        },
        "trusted": true,
        "id": "Jur8DfIKX8fr",
        "colab": {
          "base_uri": "https://localhost:8080/"
        },
        "outputId": "6131d57d-015c-45ae-9fd0-b8ee73edbb0f"
      },
      "source": [
        "pip install --upgrade google-api-python-client"
      ],
      "execution_count": null,
      "outputs": [
        {
          "output_type": "stream",
          "name": "stdout",
          "text": [
            "Requirement already satisfied: google-api-python-client in /usr/local/lib/python3.7/dist-packages (1.12.8)\n",
            "Collecting google-api-python-client\n",
            "  Downloading google_api_python_client-2.28.0-py2.py3-none-any.whl (7.7 MB)\n",
            "\u001b[K     |████████████████████████████████| 7.7 MB 5.5 MB/s \n",
            "\u001b[?25hRequirement already satisfied: uritemplate<5,>=3.0.0 in /usr/local/lib/python3.7/dist-packages (from google-api-python-client) (3.0.1)\n",
            "Collecting google-auth-httplib2>=0.1.0\n",
            "  Downloading google_auth_httplib2-0.1.0-py2.py3-none-any.whl (9.3 kB)\n",
            "Requirement already satisfied: google-api-core<3.0.0dev,>=1.21.0 in /usr/local/lib/python3.7/dist-packages (from google-api-python-client) (1.26.3)\n",
            "Requirement already satisfied: httplib2<1dev,>=0.15.0 in /usr/local/lib/python3.7/dist-packages (from google-api-python-client) (0.17.4)\n",
            "Requirement already satisfied: google-auth<3.0.0dev,>=1.16.0 in /usr/local/lib/python3.7/dist-packages (from google-api-python-client) (1.35.0)\n",
            "Requirement already satisfied: pytz in /usr/local/lib/python3.7/dist-packages (from google-api-core<3.0.0dev,>=1.21.0->google-api-python-client) (2018.9)\n",
            "Requirement already satisfied: protobuf>=3.12.0 in /usr/local/lib/python3.7/dist-packages (from google-api-core<3.0.0dev,>=1.21.0->google-api-python-client) (3.17.3)\n",
            "Requirement already satisfied: googleapis-common-protos<2.0dev,>=1.6.0 in /usr/local/lib/python3.7/dist-packages (from google-api-core<3.0.0dev,>=1.21.0->google-api-python-client) (1.53.0)\n",
            "Requirement already satisfied: packaging>=14.3 in /usr/local/lib/python3.7/dist-packages (from google-api-core<3.0.0dev,>=1.21.0->google-api-python-client) (21.0)\n",
            "Requirement already satisfied: six>=1.13.0 in /usr/local/lib/python3.7/dist-packages (from google-api-core<3.0.0dev,>=1.21.0->google-api-python-client) (1.15.0)\n",
            "Requirement already satisfied: requests<3.0.0dev,>=2.18.0 in /usr/local/lib/python3.7/dist-packages (from google-api-core<3.0.0dev,>=1.21.0->google-api-python-client) (2.23.0)\n",
            "Requirement already satisfied: setuptools>=40.3.0 in /usr/local/lib/python3.7/dist-packages (from google-api-core<3.0.0dev,>=1.21.0->google-api-python-client) (57.4.0)\n",
            "Requirement already satisfied: cachetools<5.0,>=2.0.0 in /usr/local/lib/python3.7/dist-packages (from google-auth<3.0.0dev,>=1.16.0->google-api-python-client) (4.2.4)\n",
            "Requirement already satisfied: rsa<5,>=3.1.4 in /usr/local/lib/python3.7/dist-packages (from google-auth<3.0.0dev,>=1.16.0->google-api-python-client) (4.7.2)\n",
            "Requirement already satisfied: pyasn1-modules>=0.2.1 in /usr/local/lib/python3.7/dist-packages (from google-auth<3.0.0dev,>=1.16.0->google-api-python-client) (0.2.8)\n",
            "Requirement already satisfied: pyparsing>=2.0.2 in /usr/local/lib/python3.7/dist-packages (from packaging>=14.3->google-api-core<3.0.0dev,>=1.21.0->google-api-python-client) (2.4.7)\n",
            "Requirement already satisfied: pyasn1<0.5.0,>=0.4.6 in /usr/local/lib/python3.7/dist-packages (from pyasn1-modules>=0.2.1->google-auth<3.0.0dev,>=1.16.0->google-api-python-client) (0.4.8)\n",
            "Requirement already satisfied: certifi>=2017.4.17 in /usr/local/lib/python3.7/dist-packages (from requests<3.0.0dev,>=2.18.0->google-api-core<3.0.0dev,>=1.21.0->google-api-python-client) (2021.5.30)\n",
            "Requirement already satisfied: idna<3,>=2.5 in /usr/local/lib/python3.7/dist-packages (from requests<3.0.0dev,>=2.18.0->google-api-core<3.0.0dev,>=1.21.0->google-api-python-client) (2.10)\n",
            "Requirement already satisfied: chardet<4,>=3.0.2 in /usr/local/lib/python3.7/dist-packages (from requests<3.0.0dev,>=2.18.0->google-api-core<3.0.0dev,>=1.21.0->google-api-python-client) (3.0.4)\n",
            "Requirement already satisfied: urllib3!=1.25.0,!=1.25.1,<1.26,>=1.21.1 in /usr/local/lib/python3.7/dist-packages (from requests<3.0.0dev,>=2.18.0->google-api-core<3.0.0dev,>=1.21.0->google-api-python-client) (1.24.3)\n",
            "Installing collected packages: google-auth-httplib2, google-api-python-client\n",
            "  Attempting uninstall: google-auth-httplib2\n",
            "    Found existing installation: google-auth-httplib2 0.0.4\n",
            "    Uninstalling google-auth-httplib2-0.0.4:\n",
            "      Successfully uninstalled google-auth-httplib2-0.0.4\n",
            "  Attempting uninstall: google-api-python-client\n",
            "    Found existing installation: google-api-python-client 1.12.8\n",
            "    Uninstalling google-api-python-client-1.12.8:\n",
            "      Successfully uninstalled google-api-python-client-1.12.8\n",
            "\u001b[31mERROR: pip's dependency resolver does not currently take into account all the packages that are installed. This behaviour is the source of the following dependency conflicts.\n",
            "earthengine-api 0.1.284 requires google-api-python-client<2,>=1.12.1, but you have google-api-python-client 2.28.0 which is incompatible.\u001b[0m\n",
            "Successfully installed google-api-python-client-2.28.0 google-auth-httplib2-0.1.0\n"
          ]
        }
      ]
    },
    {
      "cell_type": "code",
      "metadata": {
        "execution": {
          "iopub.status.busy": "2021-10-22T00:01:46.983047Z",
          "iopub.execute_input": "2021-10-22T00:01:46.983355Z",
          "iopub.status.idle": "2021-10-22T00:01:47.258174Z",
          "shell.execute_reply.started": "2021-10-22T00:01:46.983325Z",
          "shell.execute_reply": "2021-10-22T00:01:47.257184Z"
        },
        "trusted": true,
        "id": "qvDk6NxpX8fu"
      },
      "source": [
        "import json\n",
        "from csv import writer\n",
        "from apiclient.discovery import build\n",
        "import pandas as pd\n",
        "import pickle\n",
        "import urllib.request\n",
        "import urllib"
      ],
      "execution_count": null,
      "outputs": []
    },
    {
      "cell_type": "code",
      "metadata": {
        "execution": {
          "iopub.status.busy": "2021-10-22T00:04:23.272361Z",
          "iopub.execute_input": "2021-10-22T00:04:23.272814Z",
          "iopub.status.idle": "2021-10-22T00:04:23.276429Z",
          "shell.execute_reply.started": "2021-10-22T00:04:23.272763Z",
          "shell.execute_reply": "2021-10-22T00:04:23.275826Z"
        },
        "trusted": true,
        "id": "DM7dxD02X8fv"
      },
      "source": [
        "#key = 'Your own youtube videoID here'        \n",
        "# videoId = 'aircAruvnKk' # 3BLUE1BROWN video\n",
        "ndvideoId = 'wW1lY5jFNcQ' # Biden and Trump video"
      ],
      "execution_count": null,
      "outputs": []
    },
    {
      "cell_type": "code",
      "metadata": {
        "execution": {
          "iopub.status.busy": "2021-10-22T00:05:08.082680Z",
          "iopub.execute_input": "2021-10-22T00:05:08.082973Z",
          "iopub.status.idle": "2021-10-22T00:05:08.087215Z",
          "shell.execute_reply.started": "2021-10-22T00:05:08.082940Z",
          "shell.execute_reply": "2021-10-22T00:05:08.086511Z"
        },
        "trusted": true,
        "id": "Av2mi7LAX8fv"
      },
      "source": [
        "def build_service():\n",
        "    YOUTUBE_API_SERVICE_NAME = \"youtube\"\n",
        "    YOUTUBE_API_VERSION = \"v3\"\n",
        "    return build(YOUTUBE_API_SERVICE_NAME,\n",
        "                 YOUTUBE_API_VERSION,\n",
        "                 developerKey=key)"
      ],
      "execution_count": null,
      "outputs": []
    },
    {
      "cell_type": "code",
      "metadata": {
        "execution": {
          "iopub.status.busy": "2021-10-22T00:14:58.797697Z",
          "iopub.execute_input": "2021-10-22T00:14:58.797983Z",
          "iopub.status.idle": "2021-10-22T00:14:58.807942Z",
          "shell.execute_reply.started": "2021-10-22T00:14:58.797952Z",
          "shell.execute_reply": "2021-10-22T00:14:58.806930Z"
        },
        "trusted": true,
        "id": "z2uUNPOfX8fw"
      },
      "source": [
        "def get_comments(part='snippet', \n",
        "                 maxResults=100, \n",
        "                 textFormat='plainText',\n",
        "                 order='time',\n",
        "                 videoId= ndvideoId,\n",
        "                 csv_filename=\"PresidentialDebate_comments\"\n",
        "                 ):\n",
        "\n",
        "    #3 create empty lists to store desired information\n",
        "    comments = []\n",
        "\n",
        "    # build our service from path/to/apikey\n",
        "    service = build_service()\n",
        "    \n",
        "    #4 make an API call using our service\n",
        "    response = service.commentThreads().list(\n",
        "        part=part,\n",
        "        maxResults=maxResults,\n",
        "        textFormat='plainText',\n",
        "        order=order,\n",
        "        videoId= ndvideoId\n",
        "    ).execute()\n",
        "\n",
        "    while response: # this loop will continue to run until you max out your quota\n",
        "\n",
        "        for item in response['items']:\n",
        "            #5 index item for desired data features\n",
        "            comment = item['snippet']['topLevelComment']['snippet']['textDisplay']\n",
        "            \n",
        "            #6 append to lists\n",
        "            comments.append(comment)\n",
        "            \n",
        "        try:\n",
        "            if 'nextPageToken' in response:\n",
        "                response = service.commentThreads().list(\n",
        "                    part=part,\n",
        "                    maxResults=maxResults,\n",
        "                    textFormat=textFormat,\n",
        "                    order=order,\n",
        "                    videoId= ndvideoId,\n",
        "                    pageToken=response['nextPageToken']\n",
        "                ).execute()\n",
        "            else:\n",
        "                break\n",
        "        except: break\n",
        "\n",
        "    #9 return our data of interest\n",
        "    return {\n",
        "        'comment': comments\n",
        "        \n",
        "    }"
      ],
      "execution_count": null,
      "outputs": []
    },
    {
      "cell_type": "code",
      "metadata": {
        "execution": {
          "iopub.status.busy": "2021-10-22T00:15:00.491275Z",
          "iopub.execute_input": "2021-10-22T00:15:00.491856Z",
          "iopub.status.idle": "2021-10-22T00:15:00.497606Z",
          "shell.execute_reply.started": "2021-10-22T00:15:00.491819Z",
          "shell.execute_reply": "2021-10-22T00:15:00.496712Z"
        },
        "trusted": true,
        "id": "CyD_EiofX8fx"
      },
      "source": [
        "def get_vid_title(vidid):\n",
        "    VideoID = videoId\n",
        "    params = {\"format\": \"json\", \"url\": \"https://www.youtube.com/watch?v=wW1lY5jFNcQ\" % vidid}\n",
        "    url = \"https://www.youtube.com/watch?v=wW1lY5jFNcQ\"\n",
        "    query_string = urllib.parse.urlencode(params)\n",
        "    url = url + \"?\" + query_string\n",
        "\n",
        "    with urllib.request.urlopen(url) as response:\n",
        "        response_text = response.read()\n",
        "        data = json.loads(response_text.decode())\n",
        "        # print(data['title'])\n",
        "        return data['title']\n",
        "\n"
      ],
      "execution_count": null,
      "outputs": []
    },
    {
      "cell_type": "code",
      "metadata": {
        "execution": {
          "iopub.status.busy": "2021-10-22T00:15:37.419362Z",
          "iopub.execute_input": "2021-10-22T00:15:37.419654Z",
          "iopub.status.idle": "2021-10-22T00:15:46.308341Z",
          "shell.execute_reply.started": "2021-10-22T00:15:37.419624Z",
          "shell.execute_reply": "2021-10-22T00:15:46.307117Z"
        },
        "trusted": true,
        "id": "JufQ3p6kX8fx",
        "colab": {
          "base_uri": "https://localhost:8080/"
        },
        "outputId": "94c74c70-e930-4c3d-b7eb-0d97bf24d45c"
      },
      "source": [
        "if __name__ == '__main__':\n",
        "    comments = get_comments()\n",
        "    df = pd.DataFrame(comments)\n",
        "    print(df.shape)\n",
        "    print(df.head())\n",
        "    df.to_csv('./PresidentialDebate_comments.csv')"
      ],
      "execution_count": null,
      "outputs": [
        {
          "output_type": "stream",
          "name": "stdout",
          "text": [
            "(52493, 1)\n",
            "                                             comment\n",
            "0  Joe Biden: \"Show us your tax returns\". What a ...\n",
            "1   We see now who told us the truth in this debate.\n",
            "2  Joe doesn't trust Trump, but he trusts Fauci! ...\n",
            "3               Here's  the deal: Let's Go Brandon!!\n",
            "4  Blue vs. Red; The 2020 Election | Marcus Ward ...\n"
          ]
        }
      ]
    },
    {
      "cell_type": "code",
      "metadata": {
        "colab": {
          "base_uri": "https://localhost:8080/"
        },
        "id": "_p-xMorKAKq8",
        "outputId": "e35f1116-bd2e-4b6e-ceac-5c076b51e8e1"
      },
      "source": [
        " ## lOAD DATA to my drive...\n",
        " \n",
        "from google.colab import drive\n",
        "drive.mount('drive')\n",
        "\n",
        "df.to_csv('./PresidentialDebate_comments.csv')\n",
        "!cp PresidentialDebate_comments.csv \"drive/My Drive/\""
      ],
      "execution_count": null,
      "outputs": [
        {
          "output_type": "stream",
          "name": "stdout",
          "text": [
            "Drive already mounted at drive; to attempt to forcibly remount, call drive.mount(\"drive\", force_remount=True).\n"
          ]
        }
      ]
    },
    {
      "cell_type": "markdown",
      "metadata": {
        "id": "2PtDlpODX8fy"
      },
      "source": [
        "https://towardsdatascience.com/how-to-build-your-own-dataset-of-youtube-comments-39a1e57aade"
      ]
    }
  ]
}